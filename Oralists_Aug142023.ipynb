{
 "cells": [
  {
   "cell_type": "markdown",
   "metadata": {},
   "source": [
    "<div style=\"background-color: rgb(255, 255, 220); padding:20px\">\n",
    "   <span style=\"font-family: 'Tines New Roman'; font-size: 40px; font-weight:500; color: orange;\">\n",
    "  <bk>     \n",
    "       <center>COMBINATORICS AND PROBABILITY - PART 1</center>\n",
    "        </span>\n",
    "    </div>"
   ]
  },
  {
   "cell_type": "markdown",
   "metadata": {},
   "source": [
    "<div style=\"background-color: #E4FDE1; padding:20px\">\n",
    "    \n",
    "<span style=\"font-family: 'Times New Roman'; color: black; font-weight:350; font-size:20px\">\n",
    "    <center><strong>INFORMATION</strong></center>\n",
    "<br>    \n",
    "You will notice the cells are color coded.\n",
    "    <ul>\n",
    "        <li> Yellow cells hold the title.</li>\n",
    "        <li> Green cells carry the narrative.</li>\n",
    "        <li> Blue cells mark definitions.</li>\n",
    "        <li> Gray cells are Python programs</li>\n",
    "        <li> White cells contain the output of the Python program</li>\n",
    "        \n",
    "<br>\n",
    "Key words: permutation, combination, counting principle, sample space, experiment, outcome, event, complement, union, intersection, disjoint, independent, tree, repetition. \n",
    "        \n",
    "  </span>  \n",
    "  </div>\n",
    "    "
   ]
  },
  {
   "cell_type": "markdown",
   "metadata": {},
   "source": [
    "<div style=\"background-color: #E4FDE1; padding:20px\">\n",
    "    \n",
    "<span style=\"font-family: 'Times New Roman'; color: black; font-weight:350; font-size:20px\">\n",
    "    <center><strong>INTRODUCTION:&nbsp;THREE COUNTING TECHNIQUES</strong></center>\n",
    "<br>    \n",
    "There are three important ways of counting events in solving probability problems.  They are: the Basic Counting Principle, Permuations, and Combinations.  The first two counnt ways of rearranging elements in a given set, from left to right. For example, given a set S = {2.4.6}, how many 2 digit numbers can be made (without repetitions of a digit)? Answer: 24, 26, 46, 42, 62, 64.  In the solution, we see that order makes a difference.  Both 26 and 62 contain the same digits, but it makes a difference which one comes first.  In combinations order is not an issue. Combinations deal with how many ways to choose subsets from a given set.  Once again, consider S = {2.4.6}, how many subsets of two elements can be made from the three.  Answer: {2, 4}, {2, 6}, and {4, 6}.  Note, 2, 6 and 6, 2 are the same combination of two digits - order makes no difference.   \n",
    "  </span>  \n",
    "  </div>\n",
    "    "
   ]
  },
  {
   "cell_type": "markdown",
   "metadata": {},
   "source": [
    "<div style=\"background-color: #E5F3FD; padding:20px\">\n",
    "<span style=\"font-family: 'Times New Roman; color:blue; font-weight:350; font-size:20px\">                           \n",
    "<strong>Definition.</strong> &nbsp;  A SAMPLE SPACE S is the set of all possible outcomes of a given EXPERIMENT.  See the code below that shows the possible outcomes of flipping a coin 3 times.  The code is written in Python.  \n",
    "</span> \n",
    " </div>   "
   ]
  },
  {
   "cell_type": "code",
   "execution_count": 12,
   "metadata": {},
   "outputs": [
    {
     "name": "stdout",
     "output_type": "stream",
     "text": [
      "Heads -> Heads -> Heads\n",
      "Heads -> Heads -> Tails\n",
      "Heads -> Tails -> Heads\n",
      "Heads -> Tails -> Tails\n",
      "Tails -> Heads -> Heads\n",
      "Tails -> Heads -> Tails\n",
      "Tails -> Tails -> Heads\n",
      "Tails -> Tails -> Tails\n"
     ]
    }
   ],
   "source": [
    "import itertools\n",
    "\n",
    "def coin_flip():\n",
    "    outcomes = [\"Heads\", \"Tails\"]\n",
    "    return list(itertools.product(outcomes, repeat=3))\n",
    "\n",
    "if __name__ == \"__main__\":\n",
    "    all_outcomes = coin_flip()\n",
    "    for outcome in all_outcomes:\n",
    "        print(\" -> \".join(outcome))\n"
   ]
  },
  {
   "cell_type": "markdown",
   "metadata": {},
   "source": [
    "<div style=\"background-color: #E5F3FD; padding:20px\">\n",
    "<span style=\"font-family: 'Times New Roman'; color:blue;font-weight:350; font-size:20px\">\n",
    "\n",
    "<strong>Definition.</strong>&nbsp;  An EVENT is a subset of the sample space.  For example, consider a deck of 52 cards.  Define event A as the card dealt is red, and B as the card dealt is an ace.\n",
    "    \n",
    "<ul>\n",
    "<li>If A is an event, so is $A^c$, called the complement of A in the sample space, ie., the event that the card is black.</li>\n",
    "<li>If A and B are events, so is A$\\cup$B, the event that the card is red, an ace, or a red ace.</li>\n",
    "    <li>If A and B are events, so is A$\\cap$B, the event that the card is a red ace.</li>\n",
    "</span> \n",
    "    </div>"
   ]
  },
  {
   "cell_type": "markdown",
   "metadata": {},
   "source": [
    "\n",
    " <div style=\"background-color: #E4FDE1; padding:20px\"> \n",
    "<span style=\"font-family: 'Times New Roman'; color:black;font-weight:350; font-size:20px\">\n",
    "    \n",
    "Using the 8 sample points generated by flipping a coin three times, the following bulleted list demonstrates how events and their union and intersection can be defined.\n",
    " \n",
    "<ul>    \n",
    "<li>The first flips was heads - HHH, HHT, HTH, HTT.</li>\n",
    "<li>The third coin flip is heads - HHH, HTH, THH, TTH.</li>\n",
    "<li>There were more heads than tails - HHH, HHT, HTH, THH.</li>\n",
    "<li>A$\\cup$B the first or third flip was heads - HHH, HHT, HTH, HTT, THH, TTH.</li>\n",
    "<li>A$\\cap$B the first and third flip were heads - HHH, HTH.</li>\n",
    "</span>\n",
    "</div>\n"
   ]
  },
  {
   "cell_type": "markdown",
   "metadata": {},
   "source": [
    "<div style=\"background-color: #E5F3FD; padding:20px\">\n",
    "<span style=\"font-family: 'Times New Roman'; color:blue;font-weight:350; font-size:20px\">\n",
    "\n",
    "<strong>Definition.</strong> &nbsp;We say that two events are DISJOINT if they cannot occur at the same time. We say that two events are INDEPENDENT if the occurrence of one event has no effect on the probability of the other event occurring.  For example, define event A as a coin landing on heads and event B as the coin landing on tails.  We see that event A and B are disjoint, since a single flip results in either a heads or tails, but not both simultaneously.\n",
    "<br>    \n",
    "    Suppose we flip a coin twice.  Let event A be heads on the first flip and event B heads on the second flip.  Event A and event B are independent because the outcome of one coin flip does not affect the outcome of the other.\n",
    "<br>    \n",
    "    We say that events A and B are disjoint if their intersection is zero.  This can be written as P(A$\\cap$B) = 0.  Events are independent if P(A$\\cap$B) = P(A) x P(B).  To illustrate this last situation, we ask what is the probability of getting two heads in two flips of a coin?  Answer: P(A$\\cap$B)=P(A) x P(B) = 1/2 x 1/2 =1/4.  \n",
    "    \n",
    "<br>\n",
    "    In the situation where two events are independent, we can easily compute the probability of both their intersection (just multiply) and their union.  In this last case, do P(A$\\cup$B)=P(A) + P(B) - P(A)P(B). \n",
    "    </span> \n",
    "    </div>"
   ]
  },
  {
   "cell_type": "markdown",
   "metadata": {},
   "source": [
    "<div style=\"background-color: #E4FDE1; padding:20px\">\n",
    "    \n",
    "<span style=\"font-family: 'Times New Roman'; color: black; font-weight:350; font-size:20px\">\n",
    "    <center><strong>SAMPLE SPACE AND TREE</strong></center>\n",
    "<br>    \n",
    "Two marbles are selected one after the other, without replacement, from a bag that contains one red, one blue, one green and one orange marble.  Our goal is to create a tree that will help us determine the elements in the sample space.  In statistics an action that produces an outcome oftentimes is referred to as an experiment.  In our marble investigation, the first experiment consists in selecting a marble from the bag that contains four marbles.  The second experiment is selecting a marble from the three marbles remaining in the bag after the first marble is removed.  The words without replacement tells us the marble selected will not be returned to the bag.\n",
    "    \n",
    "To create the tree, we proceed as follows (see below): there are four choices for the first marble; for each choice of the first marble, there are 3 possibilities for the second choice.  Once the tree is drawn the user can list the number of points in the sample space.  Reading along the branches from left to right, we write S = {RB, RG, RO, BR, BG BO, GR, GB, GO, OR, OB, OG}\n",
    "  </span>  \n",
    "  </div>\n",
    "    "
   ]
  },
  {
   "cell_type": "code",
   "execution_count": 13,
   "metadata": {},
   "outputs": [
    {
     "data": {
      "text/plain": [
       "'/Users/aperham'"
      ]
     },
     "execution_count": 13,
     "metadata": {},
     "output_type": "execute_result"
    }
   ],
   "source": [
    "#This code snippet imports a diagram file.\n",
    "import os\n",
    "cwd= os.getcwd()\n",
    "cwd"
   ]
  },
  {
   "attachments": {
    "Tree.PNG": {
     "image/png": "[encoded data removed]"
    }
   },
   "cell_type": "markdown",
   "metadata": {},
   "source": [
    "![Tree.PNG](attachment:Tree.PNG)"
   ]
  },
  {
   "cell_type": "markdown",
   "metadata": {},
   "source": [
    "<div style=\"background-color: #E4FDE1; padding:20px\">\n",
    "    \n",
    "<span style=\"font-family: 'Times New Roman'; color: black; font-weight:350; font-size:20px\">\n",
    "  The python program below will print out the sample space for the marble experiment.  Note that the sample space output contains 12 poins.  A number predicted by both the counting principle, 4x3, and the tree. \n",
    "  </span>  \n",
    "  </div>\n",
    "    "
   ]
  },
  {
   "cell_type": "code",
   "execution_count": 14,
   "metadata": {
    "scrolled": true
   },
   "outputs": [
    {
     "name": "stdout",
     "output_type": "stream",
     "text": [
      "('red', 'blue')\n",
      "('red', 'green')\n",
      "('red', 'orange')\n",
      "('blue', 'red')\n",
      "('blue', 'green')\n",
      "('blue', 'orange')\n",
      "('green', 'red')\n",
      "('green', 'blue')\n",
      "('green', 'orange')\n",
      "('orange', 'red')\n",
      "('orange', 'blue')\n",
      "('orange', 'green')\n"
     ]
    }
   ],
   "source": [
    "from itertools import permutations\n",
    "\n",
    "def generate_sample_space():\n",
    "    # Define the colors of the marbles\n",
    "    colors = ['red', 'blue', 'green', 'orange']\n",
    "\n",
    "    # Generate all possible permutations of two marbles drawn from the bag without replacement\n",
    "    sample_space = list(permutations(colors, 2))\n",
    "\n",
    "    return sample_space\n",
    "\n",
    "if __name__ == \"__main__\":\n",
    "    sample_space = generate_sample_space()\n",
    "    for marble_pair in sample_space:\n",
    "        print(marble_pair)\n"
   ]
  },
  {
   "cell_type": "markdown",
   "metadata": {},
   "source": [
    "<div style=\"background-color: #E5F3FD; padding:20px\">\n",
    "<span style=\"font-family: 'Times New Roman; color:blue; font-weight:350; font-size:20px\">                           \n",
    "A <strong>Definition.&nbsp; Permutation</strong> of r elements of a set S with n distinct elements is an ordered asrrangment of those r elements selected.\n",
    "</span> \n",
    " </div>   "
   ]
  },
  {
   "cell_type": "markdown",
   "metadata": {},
   "source": [
    "<div style=\"background-color: #E4FDE1; padding:20px\">\n",
    "    \n",
    "<span style=\"font-family: 'Times New Roman'; color: black; font-weight:350; font-size:20px\">\n",
    "    <center><strong>PERMUTATIONS, WITH AND WITHOUT REPETITIONS</strong></center>\n",
    "<br>    \n",
    "    <strong>EXAMPLE</strong> &nbsp; Given the digits 2, 4, 6, in how many different ways can we fill slots with these digits.  Our answer depends upon the number of slots, 3 or less, and if a digit can be used more than once. \n",
    " <ul>\n",
    " <li><strong>3 SLOTS WITHOUT DIGIT REPETITION</strong> &nbsp; In this case, there are 3 ways to fill the first slot, 2 ways to fill the second slot, and one way to fill the last slot. Using the counting principle, we write 3x2x1 = 6. Problems of this type can be solved by using n!.</li>\n",
    " <li><strong>LESS THAN 3 SLOTS WITHOUT DIGIT REPETITION</strong> &nbsp;Let us say that we want to fill 2 slots with the digits 2, 4, 6.  The formula is  $ P(n, r) = \\frac{n!}{(n-r)!} $, where n = 3 and r = 2, where n is the number of digits, and r the number of slots.  $ P(3, 2) = \\frac{3!}{(3-2)!} $ = 6.</li>\n",
    " <li><strong>3 SLOTS WITH DIGIT REPETITION</strong> &nbsp; In this case, we can use each digit more than once.  There are 3 ways to fill the first slot, 3 ways to fill the second slot, and 3 way to fill the last slot. Using the counting principle write 3x3x3 = 27. Problems of this type can be solved by using $ n^r $.</li>\n",
    "<li><strong>LESS THAN 3 SLOTS WITH DIGIT REPETITION</strong> &nbsp; Solving by the counting principle, we write 3x3= 9.  Problems of this type can be solved by using $ n^r $.  </li> \n",
    "<br>\n",
    "     Below you will find python programs that list the permutations for the different cases.\n",
    "  </span>  \n",
    "  </div>\n",
    "    "
   ]
  },
  {
   "cell_type": "code",
   "execution_count": 15,
   "metadata": {},
   "outputs": [
    {
     "name": "stdout",
     "output_type": "stream",
     "text": [
      "2 4 6   2 6 4   4 2 6   4 6 2   6 2 4   6 4 2   "
     ]
    }
   ],
   "source": [
    "# List of permutations given 3 slots filled with 2,4,6, no repetition.\n",
    "from itertools import permutations\n",
    "\n",
    "digits = [2, 4, 6]\n",
    "permutations_list = list(permutations(digits, 3))\n",
    "\n",
    "for perm in permutations_list:\n",
    "    print(perm[0], perm[1], perm[2], end=\"   \")\n"
   ]
  },
  {
   "cell_type": "code",
   "execution_count": 16,
   "metadata": {},
   "outputs": [
    {
     "name": "stdout",
     "output_type": "stream",
     "text": [
      "2 4   2 6   4 2   4 6   6 2   6 4   "
     ]
    }
   ],
   "source": [
    "# List of permutations given 2 slots filled with 2,4,6, no reptition.\n",
    "from itertools import permutations\n",
    "\n",
    "digits = [2, 4, 6]\n",
    "permutations_list = list(permutations(digits, 2))\n",
    "\n",
    "for perm in permutations_list:\n",
    "    print(perm[0], perm[1], end=\"   \")\n"
   ]
  },
  {
   "cell_type": "code",
   "execution_count": 17,
   "metadata": {},
   "outputs": [
    {
     "name": "stdout",
     "output_type": "stream",
     "text": [
      "2 2 2   2 2 4   2 2 6   2 4 2   2 4 4   2 4 6   2 6 2   2 6 4   2 6 6   4 2 2   4 2 4   4 2 6   4 4 2   4 4 4   4 4 6   4 6 2   4 6 4   4 6 6   6 2 2   6 2 4   6 2 6   6 4 2   6 4 4   6 4 6   6 6 2   6 6 4   6 6 6   "
     ]
    }
   ],
   "source": [
    "# LIst of permutations given 3 slots filled with 2,4,6, with repetition.\n",
    "from itertools import product\n",
    "\n",
    "digits = [2, 4, 6]\n",
    "product_list = list(product(digits, repeat=3))\n",
    "\n",
    "for prod in product_list:\n",
    "    print(prod[0], prod[1], prod[2], end=\"   \")\n"
   ]
  },
  {
   "cell_type": "code",
   "execution_count": 18,
   "metadata": {},
   "outputs": [
    {
     "name": "stdout",
     "output_type": "stream",
     "text": [
      "2 2   2 4   2 6   4 2   4 4   4 6   6 2   6 4   6 6   "
     ]
    }
   ],
   "source": [
    "# List of permutations given 2 slots filled with 2,4,6, with repetition.\n",
    "from itertools import product\n",
    "\n",
    "digits = [2, 4, 6]\n",
    "product_list = list(product(digits, repeat=2))\n",
    "\n",
    "for prod in product_list:\n",
    "    print(prod[0], prod[1], end=\"   \")"
   ]
  },
  {
   "cell_type": "markdown",
   "metadata": {},
   "source": [
    "<div style=\"background-color: #E5F3FD; padding:20px\">\n",
    "<span style=\"font-family: 'Times New Roman; color:blue; font-weight:350; font-size:20px\">                           \n",
    "    <strong>Definition.</strong>&nbsp;A <strong>combination</strong> of r elements of a set S with n distinct elements is an unordered selection of those r elements from the n.\n",
    "</span> \n",
    " </div>   "
   ]
  },
  {
   "cell_type": "markdown",
   "metadata": {},
   "source": [
    "<div style=\"background-color: #E4FDE1; padding:20px\">\n",
    "    \n",
    "<span style=\"font-family: 'Times New Roman'; color: black; font-weight:350; font-size:20px\">\n",
    "    <center><strong>COMBINATIONS, WITH AND WITHOUT REPETITIONS</strong></center>\n",
    "<br>    \n",
    "    <strong>EXAMPLE</strong> &nbsp; In how many different ways can we form a combination of two digits given the set of three digits: S = {2, 4, 6}?  Our answer depends on whether we allow a digit to be used more than once.  We need to remember for combinations order does not play a role, e.g. 2,4 and 4,2 are different permutations, but the same combinatison of two digits.\n",
    " <ul>\n",
    " <li><strong>WITHOUT REPETITION</strong> &nbsp; The formula for this case is $ C(n, r) = \\frac{n!}{r! x (n-1)!}$ where n is the number of digits in the set and r is the number of digits we select to form a combination. $ C(3, 2) = \\frac{3!}{2! x (3-2)!}$ = 3</li>\n",
    "     <li><strong>WITH REPETITION</strong> &nbsp;Repetition means that a digit can be selected more than once.  The formula to calculate the number of combinations is $ C(n, r) = \\frac{(n+r-1)!}{r! x (n-1)!}$, $ C(3, 2) = \\frac{(3+2-1)!}{2! x (3-1)!}$ = 6.</li> \n",
    "<br>\n",
    "     Below you will find python programs that list the permutations for both cases.\n",
    "  </span>  \n",
    "  </div>\n",
    "    "
   ]
  },
  {
   "cell_type": "code",
   "execution_count": 19,
   "metadata": {},
   "outputs": [
    {
     "name": "stdout",
     "output_type": "stream",
     "text": [
      "[(2, 4), (2, 6), (4, 6)]\n"
     ]
    }
   ],
   "source": [
    "# Given digits 2,4,6, list of combinations without repetition.\n",
    "import itertools\n",
    "\n",
    "def combinations(digits, n):\n",
    "  \"\"\"Returns the list of all combinations of n digits from the set digits.\"\"\"\n",
    "  return list(itertools.combinations(digits, n))\n",
    "\n",
    "print(combinations([2, 4, 6], 2))"
   ]
  },
  {
   "cell_type": "code",
   "execution_count": 20,
   "metadata": {},
   "outputs": [
    {
     "name": "stdout",
     "output_type": "stream",
     "text": [
      "[(2, 2), (2, 4), (2, 6), (4, 4), (4, 6), (6, 6)]\n"
     ]
    }
   ],
   "source": [
    "# Given digits 2,4,6, list of combinations with repetition.\n",
    "import itertools\n",
    "\n",
    "def combinations(digits, n):\n",
    "  \"\"\"Returns the list of all combinations of n digits from the set digits.\"\"\"\n",
    "  return list(itertools.combinations_with_replacement(digits, n))\n",
    "\n",
    "print(combinations([2, 4, 6], 2))"
   ]
  },
  {
   "cell_type": "code",
   "execution_count": null,
   "metadata": {},
   "outputs": [],
   "source": []
  }
 ],
 "metadata": {
  "kernelspec": {
   "display_name": "Python 3",
   "language": "python",
   "name": "python3"
  },
  "language_info": {
   "codemirror_mode": {
    "name": "ipython",
    "version": 3
   },
   "file_extension": ".py",
   "mimetype": "text/x-python",
   "name": "python",
   "nbconvert_exporter": "python",
   "pygments_lexer": "ipython3",
   "version": "3.7.6"
  }
 },
 "nbformat": 4,
 "nbformat_minor": 4
}
